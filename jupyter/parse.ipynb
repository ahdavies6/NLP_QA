{
 "cells": [
  {
   "cell_type": "code",
   "execution_count": 1,
   "metadata": {},
   "outputs": [],
   "source": [
    "import nltk\n",
    "from nltk.parse.corenlp import CoreNLPParser"
   ]
  },
  {
   "cell_type": "code",
   "execution_count": 2,
   "metadata": {},
   "outputs": [
    {
     "name": "stdout",
     "output_type": "stream",
     "text": [
      "(ROOT\n",
      "  (SBARQ\n",
      "    (WHADVP (WRB Why))\n",
      "    (SQ\n",
      "      (VBD did)\n",
      "      (NP (NNP George))\n",
      "      (VP (VB get) (PP (IN on) (NP (DT the) (NN bus)))))\n",
      "    (. ?)))\n"
     ]
    }
   ],
   "source": [
    "tokens = nltk.word_tokenize(\"Why did George get on the bus?\")\n",
    "parsed = CoreNLPParser().parse(tokens)\n",
    "\n",
    "for constituent in parsed:\n",
    "    print(constituent)"
   ]
  },
  {
   "cell_type": "code",
   "execution_count": 5,
   "metadata": {},
   "outputs": [],
   "source": [
    "import os\n",
    "from IPython.display import Image, display\n",
    "from nltk.draw import TreeWidget\n",
    "from nltk.draw.util import CanvasFrame\n",
    "\n",
    "def jupyter_draw_nltk_tree(tree):\n",
    "    cf = CanvasFrame()\n",
    "    tc = TreeWidget(cf.canvas(), tree)\n",
    "    tc['node_font'] = 'arial 13 bold'\n",
    "    tc['leaf_font'] = 'arial 14'\n",
    "    tc['node_color'] = '#005990'\n",
    "    tc['leaf_color'] = '#3F8F57'\n",
    "    tc['line_color'] = '#175252'\n",
    "    cf.add_widget(tc, 10, 10)\n",
    "    cf.print_to_file('tmp_tree_output.ps')\n",
    "    cf.destroy()\n",
    "    os.system('magick tmp_tree_output.ps tmp_tree_output.png')\n",
    "    display(Image(filename='tmp_tree_output.png'))\n",
    "    os.system('rm tmp_tree_output.ps tmp_tree_output.png')"
   ]
  },
  {
   "cell_type": "code",
   "execution_count": 6,
   "metadata": {},
   "outputs": [
    {
     "data": {
      "image/png": "[encoded data removed]",
      "text/plain": [
       "<IPython.core.display.Image object>"
      ]
     },
     "metadata": {},
     "output_type": "display_data"
    }
   ],
   "source": [
    "# import IPython\n",
    "# IPython.core.display.display(parsed)\n",
    "\n",
    "tokens = nltk.word_tokenize(\"Why did George get on the bus?\")\n",
    "parsed = CoreNLPParser().parse(tokens)\n",
    "\n",
    "constituent_trees = [x for x in parsed][0]\n",
    "\n",
    "jupyter_draw_nltk_tree(constituent_trees)\n",
    "\n",
    "# import os\n",
    "# os.environ['PATH'] += \"C:\\Program Files\\gs\\gs9.25\\bin\"\n",
    "\n",
    "# IPython.core.display.display(constituent_trees)"
   ]
  }
 ],
 "metadata": {
  "kernelspec": {
   "display_name": "Python 3",
   "language": "python",
   "name": "python3"
  },
  "language_info": {
   "codemirror_mode": {
    "name": "ipython",
    "version": 3
   },
   "file_extension": ".py",
   "mimetype": "text/x-python",
   "name": "python",
   "nbconvert_exporter": "python",
   "pygments_lexer": "ipython3",
   "version": "3.7.0"
  }
 },
 "nbformat": 4,
 "nbformat_minor": 2
}
